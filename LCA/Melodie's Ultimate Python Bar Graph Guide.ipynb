{
 "cells": [
  {
   "cell_type": "markdown",
   "metadata": {},
   "source": [
    "# Melodie's extreme bar chart tutorial, useful for LCAs"
   ]
  },
  {
   "cell_type": "markdown",
   "metadata": {},
   "source": [
    "If you liked the graphs found in the following papers, and you want to make some crazy bar graphs, this is the place to go! Here, we will cover making a bar graph, a stacked bar graph, and the highly covetted stacked clustered bar graph. Furthermore, all of those can have error bars of your chosing!! And we'll also go over stuff like line breaks, color gradients, etc.\n",
    "\n",
    "Headings are presenting in the following order, you can search for them to speed through the tutorial\n",
    "- Simple bar chart (coloring included)\n",
    "- Error Bars!\n",
    "- Inset Graph\n",
    "- Stacked bar chart (error bars, and color gradient at the end)\n",
    "- Sharing an Axis\n",
    "- Second axis/scatter plot\n",
    "- Clustered barchar (fixed legend and color gradient at the end)\n",
    "- Adding a linebreak\n",
    "- The Stacked clustered bar chart\n",
    "- Adding two legends\n",
    "- The Stacked clustered bar chart with error bars (and gradient coloring)\n",
    "\n",
    "Figures from the following papers covered in this tutorial:\n",
    "\n",
    "Carbon footprint of Li-Oxygen batteries and the impact of material and structure selection - (https://doi.org/10.1016/j.est.2023.106684)\n",
    "\n",
    "Applying Life Cycle Analysis for Materials Selection in Li-O2 Batteries - (in Progress)"
   ]
  },
  {
   "cell_type": "markdown",
   "metadata": {},
   "source": [
    "## Import modules"
   ]
  },
  {
   "cell_type": "markdown",
   "metadata": {},
   "source": [
    "I'm going to import my modules as you need them. Right now we're just starting with these two. We'll use more later :)"
   ]
  },
  {
   "cell_type": "code",
   "execution_count": 1,
   "metadata": {},
   "outputs": [],
   "source": [
    "import numpy as np\n",
    "import matplotlib.pyplot as plt\n",
    "\n",
    "%matplotlib inline "
   ]
  },
  {
   "cell_type": "markdown",
   "metadata": {},
   "source": [
    "## Make a simple bar chart"
   ]
  },
  {
   "cell_type": "code",
   "execution_count": 2,
   "metadata": {},
   "outputs": [
    {
     "data": {
      "text/plain": [
       "Text(0, 0.5, 'y label')"
      ]
     },
     "execution_count": 2,
     "metadata": {},
     "output_type": "execute_result"
    },
    {
     "data": {
      "image/png": "[encoded data removed]",
      "text/plain": [
       "<Figure size 432x288 with 1 Axes>"
      ]
     },
     "metadata": {
      "needs_background": "light"
     },
     "output_type": "display_data"
    }
   ],
   "source": [
    "#Right now we're going to make a simple bar chart. You can do this with just two arrays, I'll make some data!\n",
    "\n",
    "titles = [\"A\", \"B\", \"C\", \"D\"]\n",
    "values = np.random.rand(4)\n",
    "\n",
    "#In this step, I'm creating a subplot. \n",
    "#For a graph this simple, a subplot is not needed but it sets up good infrastructure for what's to come\n",
    "fig, ax = plt.subplots()\n",
    "plt.bar(titles, values, color=['blue'])\n",
    "\n",
    "#There are several ways to interact with changing features of the graph.\n",
    "#For example, I can use this ax. command\n",
    "ax.set_xlabel(\"x label\", fontsize = 14, color = 'red')\n",
    "ax.set_ylabel(\"y label\", fontsize = 14)\n",
    "#Or I can use:\n",
    "# plt.xlabel(\"x label\", fontsize = 14)\n",
    "# plt.ylabel(\"x label\", fontsize = 14, color='red')\n",
    "\n",
    "#I usually prefer to use the ax method, because as we move on into plotting subplots, plt. is more difficult to control"
   ]
  },
  {
   "cell_type": "markdown",
   "metadata": {},
   "source": [
    "This is a great place to start, but there's a lot of stuff you can do with your plot now that you have it. The first thing you can do is make your graph more fun. Here we can set the size and rotation of the labels. We can also remove ticks, or change their orientation and color!"
   ]
  },
  {
   "cell_type": "code",
   "execution_count": 3,
   "metadata": {},
   "outputs": [
    {
     "data": {
      "image/png": "[encoded data removed]",
      "text/plain": [
       "<Figure size 432x288 with 1 Axes>"
      ]
     },
     "metadata": {
      "needs_background": "light"
     },
     "output_type": "display_data"
    }
   ],
   "source": [
    "fig, ax = plt.subplots()\n",
    "plt.bar(titles, values, color=['blue'])\n",
    "\n",
    "labels = ax.get_xticklabels()\n",
    "for label in labels:\n",
    "    label.set_rotation(45)\n",
    "    label.set_size(25)\n",
    "    \n",
    "ax.tick_params(axis=\"y\",direction=\"in\", colors='green')\n",
    "ax.xaxis.set_ticks_position('none') "
   ]
  },
  {
   "cell_type": "markdown",
   "metadata": {},
   "source": [
    "So let's move on to color. All graphics should be visually appealing. First, you can spice things up by using the python default colors."
   ]
  },
  {
   "cell_type": "code",
   "execution_count": 4,
   "metadata": {},
   "outputs": [
    {
     "data": {
      "text/plain": [
       "<BarContainer object of 4 artists>"
      ]
     },
     "execution_count": 4,
     "metadata": {},
     "output_type": "execute_result"
    },
    {
     "data": {
      "image/png": "[encoded data removed]",
      "text/plain": [
       "<Figure size 432x288 with 1 Axes>"
      ]
     },
     "metadata": {
      "needs_background": "light"
     },
     "output_type": "display_data"
    }
   ],
   "source": [
    "plt.bar(titles, values, color=['blue', 'green','red','grey'])"
   ]
  },
  {
   "cell_type": "markdown",
   "metadata": {},
   "source": [
    "Cool, but you can also just make it whatever you want. I'm a huge fan of pastels and bring graphs! This is great"
   ]
  },
  {
   "cell_type": "code",
   "execution_count": 5,
   "metadata": {},
   "outputs": [
    {
     "data": {
      "text/plain": [
       "<BarContainer object of 4 artists>"
      ]
     },
     "execution_count": 5,
     "metadata": {},
     "output_type": "execute_result"
    },
    {
     "data": {
      "image/png": "[encoded data removed]",
      "text/plain": [
       "<Figure size 432x288 with 1 Axes>"
      ]
     },
     "metadata": {
      "needs_background": "light"
     },
     "output_type": "display_data"
    }
   ],
   "source": [
    "colors = ['#FFB061','#CCCCFF','#99FFCC','#A3C8FF']\n",
    "plt.bar(titles, values, color=colors)"
   ]
  },
  {
   "cell_type": "markdown",
   "metadata": {},
   "source": [
    "Alright, finally, it's a lot of work to select a bunch of colors, so we can just use cmap to generate a color for us.\n",
    "Take a look at your color palettes here: https://matplotlib.org/stable/tutorials/colors/colormaps.html"
   ]
  },
  {
   "cell_type": "code",
   "execution_count": 6,
   "metadata": {},
   "outputs": [
    {
     "data": {
      "text/plain": [
       "<BarContainer object of 4 artists>"
      ]
     },
     "execution_count": 6,
     "metadata": {},
     "output_type": "execute_result"
    },
    {
     "data": {
      "image/png": "[encoded data removed]",
      "text/plain": [
       "<Figure size 432x288 with 1 Axes>"
      ]
     },
     "metadata": {
      "needs_background": "light"
     },
     "output_type": "display_data"
    }
   ],
   "source": [
    "cmap = plt.get_cmap('plasma')\n",
    "n_colors = len(values) \n",
    "color_ind = np.linspace(0,1,n_colors)\n",
    "colors = list()\n",
    "for i in np.arange(n_colors):\n",
    "    colors.append(cmap(color_ind[i]))\n",
    "\n",
    "plt.bar(titles, values, color=colors)"
   ]
  },
  {
   "cell_type": "markdown",
   "metadata": {},
   "source": [
    "## Error Bars! "
   ]
  },
  {
   "cell_type": "code",
   "execution_count": 7,
   "metadata": {},
   "outputs": [
    {
     "data": {
      "text/plain": [
       "<ErrorbarContainer object of 3 artists>"
      ]
     },
     "execution_count": 7,
     "metadata": {},
     "output_type": "execute_result"
    },
    {
     "data": {
      "image/png": "[encoded data removed]",
      "text/plain": [
       "<Figure size 432x288 with 1 Axes>"
      ]
     },
     "metadata": {
      "needs_background": "light"
     },
     "output_type": "display_data"
    }
   ],
   "source": [
    "#generate values and errorbars, here, I've made the upper and lower error bars different, just to show they can be. \n",
    "#Error bars should be the value of the error! The maximum height of the error bar (i.e. values + error)\n",
    "values = np.random.rand(4)\n",
    "error = np.random.rand(4)*0.2\n",
    "lower = error\n",
    "upper = error+0.1\n",
    "\n",
    "fig, ax = plt.subplots()\n",
    "plt.bar(titles, values, color=['grey'])\n",
    "\n",
    "#Add the error using the axis\n",
    "ax.errorbar(titles, values, yerr = (lower,upper), color=\"black\", ls='none')"
   ]
  },
  {
   "cell_type": "markdown",
   "metadata": {},
   "source": [
    "## An Inset Graph"
   ]
  },
  {
   "cell_type": "markdown",
   "metadata": {},
   "source": [
    "Remember how we started with making subplots? Well, that's exactly how you're going to make your graph inset. Now, we can see the different between using plt. vs ax. Plt. simply acts on the last graph interacted with, so I prefer to specify which graph I'm interacting with, using commands involving ax. "
   ]
  },
  {
   "cell_type": "code",
   "execution_count": 8,
   "metadata": {},
   "outputs": [
    {
     "data": {
      "text/plain": [
       "Text(0, 0.5, 'y label')"
      ]
     },
     "execution_count": 8,
     "metadata": {},
     "output_type": "execute_result"
    },
    {
     "data": {
      "image/png": "[encoded data removed]",
      "text/plain": [
       "<Figure size 432x288 with 2 Axes>"
      ]
     },
     "metadata": {
      "needs_background": "light"
     },
     "output_type": "display_data"
    }
   ],
   "source": [
    "#You're going to import inset_axes \n",
    "\n",
    "from mpl_toolkits.axes_grid1.inset_locator import inset_axes\n",
    "\n",
    "#Set up the data needed to create your graph\n",
    "titles = [\"A\", \"B\", \"C\", \"D\"]\n",
    "tall_values = np.random.rand(2)*20+10\n",
    "short_values = np.random.rand(2)\n",
    "values = np.concatenate((tall_values, short_values), axis = None)\n",
    "\n",
    "#create your graph with\n",
    "fig_inset, ax_inset = plt.subplots()\n",
    "plt.bar(titles, values, color=colors)\n",
    "a_tiny = inset_axes(ax_inset, width=\"41%\", height=\"76%\", loc=\"upper right\")\n",
    "location = len(tall_values)\n",
    "plt.bar(titles[location:], short_values, color=colors[location:])\n",
    "\n",
    "plt.ylabel(\"y label\", fontsize = 24, color='red')"
   ]
  },
  {
   "cell_type": "markdown",
   "metadata": {},
   "source": [
    "## The Stacked Bar Graph"
   ]
  },
  {
   "cell_type": "markdown",
   "metadata": {},
   "source": [
    "Hard sell on whether or not to include the stacked bar graph or clustered bar graph first. I think the stacked bar graph might be a good place to start, just because bulk error bars are easier to do for this.\n",
    "\n",
    "Now, I'm going to start working with dataframes instead of arrays! You can make stacked bar charts very easily from excel workbooks using df. I'll generate my own here, but I'll leave some code that gives you a hint on how to import data from a workbook.\n",
    "\n",
    "Why would you use read_excel? Because you can do a for loop through dataframes!! That will come in handy later, during the clustered bar chart, maybe."
   ]
  },
  {
   "cell_type": "code",
   "execution_count": 9,
   "metadata": {},
   "outputs": [
    {
     "name": "stdout",
     "output_type": "stream",
     "text": [
      "   Cats  Bears  Snorlax  Armadillos\n",
      "A    89     31       10          56\n",
      "B    36     36        4          24\n",
      "C    83     39       26          72\n",
      "D    27     56        6          97\n",
      "E    75     27       28          89\n"
     ]
    }
   ],
   "source": [
    "#Let's import Pandas! Pandas is my favorite python module!\n",
    "import pandas as pd\n",
    "\n",
    "#data = pd.read_csv('a_graph.csv', header=0)\n",
    "#data = pd.read_excel(\"a_graph.xlsx\", sheet_name= None, header= 0)\n",
    "\n",
    "#I'll make a temp data set here. The data in this case will be organized differently.\n",
    "# here, we have categories that are attributes of the title.\n",
    "titles = [\"A\", \"B\", \"C\", \"D\", \"E\"]\n",
    "categories =[\"Cats\", \"Bears\", \"Snorlax\", \"Armadillos\"] \n",
    "\n",
    "data = pd.DataFrame(np.random.randint(0,100,size=(len(titles), len(categories))), columns=categories, index = titles) \n",
    "print(data)"
   ]
  },
  {
   "cell_type": "code",
   "execution_count": 10,
   "metadata": {},
   "outputs": [
    {
     "data": {
      "text/plain": [
       "<AxesSubplot:>"
      ]
     },
     "execution_count": 10,
     "metadata": {},
     "output_type": "execute_result"
    },
    {
     "data": {
      "image/png": "[encoded data removed]",
      "text/plain": [
       "<Figure size 432x432 with 1 Axes>"
      ]
     },
     "metadata": {
      "needs_background": "light"
     },
     "output_type": "display_data"
    }
   ],
   "source": [
    "fig_stacked, a_stacked = plt.subplots()\n",
    "data.plot(ax = a_stacked, kind='bar', stacked = True, figsize = (6,6))"
   ]
  },
  {
   "cell_type": "markdown",
   "metadata": {},
   "source": [
    "Hmm Okay, what about error bars and changing the color?"
   ]
  },
  {
   "cell_type": "code",
   "execution_count": 11,
   "metadata": {},
   "outputs": [
    {
     "data": {
      "text/plain": [
       "<ErrorbarContainer object of 3 artists>"
      ]
     },
     "execution_count": 11,
     "metadata": {},
     "output_type": "execute_result"
    },
    {
     "data": {
      "image/png": "[encoded data removed]",
      "text/plain": [
       "<Figure size 432x288 with 1 Axes>"
      ]
     },
     "metadata": {
      "needs_background": "light"
     },
     "output_type": "display_data"
    }
   ],
   "source": [
    "error = np.random.rand(len(titles))*30\n",
    "\n",
    "#Here, I change the colors of the bar graph. If you add colors, you will be specifying the color of the categories.\n",
    "colors = ['#FFB061','#CCCCFF','#99FFCC','#A3C8FF', '#B3DE69']\n",
    "\n",
    "fig_stacked, a_stacked = plt.subplots()\n",
    "data.plot(ax = a_stacked, kind='bar', stacked = True, color =colors)\n",
    "\n",
    "total = data.sum(axis=1) \n",
    "\n",
    "a_stacked.errorbar(titles,total, yerr = (error,error), color=\"black\", ls='none')"
   ]
  },
  {
   "cell_type": "markdown",
   "metadata": {},
   "source": [
    "As always, I like to play with more colors. In this case, I would like to show you are really fun stacked bar graph that I did, where I made each category a gradient."
   ]
  },
  {
   "cell_type": "code",
   "execution_count": 12,
   "metadata": {},
   "outputs": [
    {
     "data": {
      "text/plain": [
       "<matplotlib.legend.Legend at 0x1e06f525310>"
      ]
     },
     "execution_count": 12,
     "metadata": {},
     "output_type": "execute_result"
    },
    {
     "data": {
      "image/png": "[encoded data removed]",
      "text/plain": [
       "<Figure size 432x216 with 1 Axes>"
      ]
     },
     "metadata": {
      "needs_background": "light"
     },
     "output_type": "display_data"
    }
   ],
   "source": [
    "fig_colors, ax_colors = plt.subplots()\n",
    "data.plot(ax = ax_colors, kind='bar', stacked = True, figsize = (6,3), legend = False)\n",
    "\n",
    "cmap_themes = ['Blues','Greens','Purples','Reds']\n",
    "\n",
    "legend_bar =len(titles)\n",
    "colorseed_bar = []\n",
    "color_ind = np.linspace(0.3,0.8,legend_bar)\n",
    "color_ind = np.flip(color_ind)\n",
    "\n",
    "#using this for loop, we are creating a list of colors that \n",
    "#will correspond to the order of colors in ax_colors.get_children below\n",
    "# In future graphs where we use gradiented colors, I will use a different for loop\n",
    "for color in cmap_themes:\n",
    "    for i in np.arange(legend_bar):\n",
    "        cmap = plt.get_cmap(color)\n",
    "        colorseed_bar.append(cmap(color_ind[i]))\n",
    "\n",
    "color_arrangement = len(colorseed_bar)\n",
    "\n",
    "# Using ax_colors.get_children(), reads from left to right, from bottom to top. \n",
    "for x in np.arange(color_arrangement) :\n",
    "    ax_colors.get_children()[x].set_color(colorseed_bar[x])\n",
    "\n",
    "fig_colors.legend(loc='upper center', ncol = 4, bbox_to_anchor=(0.5, 1.10))"
   ]
  },
  {
   "cell_type": "markdown",
   "metadata": {},
   "source": [
    "## Sharing an Axis"
   ]
  },
  {
   "cell_type": "markdown",
   "metadata": {},
   "source": [
    "So you want to save space by sharing an axis, no problem. In this case, I'm doing the x-axis. I've also included a lot of style choices here. Feel free to toggle things on and off to see what you like"
   ]
  },
  {
   "cell_type": "code",
   "execution_count": 13,
   "metadata": {},
   "outputs": [
    {
     "data": {
      "text/plain": [
       "<matplotlib.legend.Legend at 0x1e06f670880>"
      ]
     },
     "execution_count": 13,
     "metadata": {},
     "output_type": "execute_result"
    },
    {
     "data": {
      "image/png": "[encoded data removed]",
      "text/plain": [
       "<Figure size 432x288 with 2 Axes>"
      ]
     },
     "metadata": {
      "needs_background": "light"
     },
     "output_type": "display_data"
    }
   ],
   "source": [
    "#Let's generate another set of data to use on the other axis\n",
    "\n",
    "data_compare = pd.DataFrame(np.random.randint(0,100,size=(len(titles), len(categories))), columns=categories, index = titles)\n",
    "\n",
    "#Now, we set up the plot to share the x-axis (sharex), you can also use (plt.subplots(1,2), sharey=True) \n",
    "fig_share, (ax_share1, ax_share2) = plt.subplots(2,1, sharex= True)\n",
    "#we can specifcy which plot we want using the different ax\n",
    "\n",
    "data.plot(ax = ax_share1, kind='bar', stacked = True, legend = False, ylabel = \"The First Y\")\n",
    "data_compare.plot(ax = ax_share2, kind='bar', stacked = True, legend = False,  ylabel = \"The Second Y\")\n",
    "\n",
    "#because we have two plots here maybe we want an overarching title for the Y axis. \n",
    "fig_share.supylabel('Another Y???')\n",
    "\n",
    "# This makes our two y-axis not overlap!\n",
    "plt.tight_layout()\n",
    "\n",
    "#loading in the nice color scheme I made previously. You can get comment these lines out if you want to use another color scheme\n",
    "for x in np.arange(color_arrangement) :\n",
    "    ax_share1.get_children()[x].set_color(colorseed_bar[x])\n",
    "    ax_share2.get_children()[x].set_color(colorseed_bar[x])\n",
    "\n",
    "#I don't really like the tick marks for bar graphs\n",
    "ax_share1.xaxis.set_ticks_position('none') \n",
    "\n",
    "#because we have two sets of data, we need to specify which parts of the dataset we want to make the legend.\n",
    "#we can use the information from just one of the plots to make our legend more simple.\n",
    "handles, labels = ax_share1.get_legend_handles_labels()\n",
    "\n",
    "# make a legend that is not on either graph!\n",
    "fig_share.legend(handles, labels, loc='upper center', ncol = 4, bbox_to_anchor=(0.55, 1.08))"
   ]
  },
  {
   "cell_type": "markdown",
   "metadata": {},
   "source": [
    "## Ploting a Second Axis (with a scatter plot!!)"
   ]
  },
  {
   "cell_type": "markdown",
   "metadata": {},
   "source": [
    "Perhaps you want to plot a line plot with a bar graph, and you'll need a secondarly axis. Below is a template, the data is of course nonsense, but perhaps you're trying to demonstrate a correlation  between two things and one of them needs to be split into a bar graph and a scatter plot or line. In this case, each group has one of each animal in it, depending on the randomness, we might see that a cat from group A is heavier than a cat from group B and that group B eats less. Amazing results!"
   ]
  },
  {
   "cell_type": "code",
   "execution_count": 14,
   "metadata": {
    "scrolled": true
   },
   "outputs": [
    {
     "data": {
      "text/plain": [
       "<matplotlib.legend.Legend at 0x1e06f89bbb0>"
      ]
     },
     "execution_count": 14,
     "metadata": {},
     "output_type": "execute_result"
    },
    {
     "data": {
      "image/png": "[encoded data removed]",
      "text/plain": [
       "<Figure size 432x288 with 2 Axes>"
      ]
     },
     "metadata": {
      "needs_background": "light"
     },
     "output_type": "display_data"
    }
   ],
   "source": [
    "#Let's generate some new data\n",
    "# In this graph, I'm flipping the titles and categories\n",
    "\n",
    "titles = [\"A\", \"B\", \"C\", \"D\", \"E\"]\n",
    "categories = [\"Cats\", \"Bears\", \"Snorlax\", \"Armadillos\"] \n",
    "data_bar = pd.DataFrame(np.random.randint(0,100,size=(len(titles), len(categories))), columns=categories, index = titles)\n",
    "data_line = pd.DataFrame(np.random.rand(len(titles)), index = titles)\n",
    "\n",
    "#create the plot, then add a secondary axis\n",
    "fig3, ax_bar = plt.subplots()\n",
    "\n",
    "#There's an empty plot if you don't have this. Don't ask me why. I don't know anything about python\n",
    "plt.close()\n",
    "ax_line = ax_bar.twinx()\n",
    "\n",
    "ax_bar = data_bar.plot(kind=\"bar\", stacked = True, legend=False)\n",
    "ax_bar.set_ylabel(\"Animal Weight [kg]\")\n",
    "\n",
    "#Right now, I have made this a scatter plot. You can change it two a line by changing the linestyle\n",
    "ax_line = data_line.plot(kind =\"line\", ax= ax_bar, secondary_y=True, legend=False,  linestyle = 'none', marker ='o', color = 'b')\n",
    "ax_line.set_ylabel(\"Total Animal Food Consumption [kg]\")\n",
    "\n",
    "#We can, as always add error bars, to either axis. Here, I've added it to the secondary y-axis.\n",
    "error = np.random.rand(len(titles))*0.4+0.2\n",
    "ax_line.errorbar(titles, data_line[0], yerr = (error,error), color=\"black\", ls='none')\n",
    "\n",
    "handles_bar, labels_bar = ax_bar.get_legend_handles_labels()\n",
    "handles_line, labels_line = ax_line.get_legend_handles_labels()\n",
    "\n",
    "plt.legend(handles_bar+ handles_line, labels_bar+labels_line, loc='upper center', ncol = 5, bbox_to_anchor=(0.5, 1.2))\n"
   ]
  },
  {
   "cell_type": "markdown",
   "metadata": {},
   "source": [
    "## The Clustered Bar Chart"
   ]
  },
  {
   "cell_type": "markdown",
   "metadata": {},
   "source": [
    "Moving on, let's get to another exciting bar chart, the clustered bar chart."
   ]
  },
  {
   "cell_type": "code",
   "execution_count": 15,
   "metadata": {
    "scrolled": true
   },
   "outputs": [
    {
     "name": "stdout",
     "output_type": "stream",
     "text": [
      "   Cats  Bears  Snorlax  Armadillos Group\n",
      "0    94     91       64          19     A\n",
      "1    97     29       79          54     B\n",
      "2    62     16       28           7     C\n",
      "3    69     98       55          65     D\n",
      "4    65      0       54          96     E\n"
     ]
    }
   ],
   "source": [
    "#The data structure will need to be structured a little differently. For a clustered barchart, we want three things\n",
    "\n",
    "#1) We want the bars themselves, previously, this has been animals, so let's pull those up again\n",
    "Animals = [\"Cats\", \"Bears\", \"Snorlax\", \"Armadillos\"] \n",
    "\n",
    "#2)When we make our titles, we will need to have an \"index\", that will be the basis for our grouping.\n",
    "Group = [\"A\", \"B\", \"C\", \"D\", \"E\"]\n",
    "\n",
    "#3) Then we want the actual data, so I'll make another random array\n",
    "\n",
    "data_clustered = pd.DataFrame(np.random.randint(0,100,size=(len(Group), len(Animals))), columns=Animals)\n",
    "data_clustered['Group'] = Group\n",
    "\n",
    "#So if you look at the array below, if you're importing a CSV/xcel workbook, this is what your data should take the form of\n",
    "#Note, the position of the 'Weekdays column shouldn't matter\n",
    "print(data_clustered)\n"
   ]
  },
  {
   "cell_type": "markdown",
   "metadata": {},
   "source": [
    "Right off the bat, we notice a few things with the chart below. First, the axis labels aren't left to write in the order that they should be. Second, the colors are the default colors, and I don't really like them."
   ]
  },
  {
   "cell_type": "code",
   "execution_count": 16,
   "metadata": {},
   "outputs": [
    {
     "data": {
      "text/plain": [
       "Text(0, 0.5, 'Food eaten [kg]')"
      ]
     },
     "execution_count": 16,
     "metadata": {},
     "output_type": "execute_result"
    },
    {
     "data": {
      "image/png": "[encoded data removed]",
      "text/plain": [
       "<Figure size 432x288 with 1 Axes>"
      ]
     },
     "metadata": {
      "needs_background": "light"
     },
     "output_type": "display_data"
    }
   ],
   "source": [
    "fig_clustered, ax_clustered = plt.subplots()\n",
    "data_clustered.set_index(\"Group\").plot(ax = ax_clustered, kind='bar', legend = False, width = 0.85)\n",
    "\n",
    "fig_clustered.legend(loc='upper center', ncol = 2, bbox_to_anchor=(0.5, 1.050))\n",
    "ax_clustered.set_ylabel(\"Food eaten [kg]\")"
   ]
  },
  {
   "cell_type": "markdown",
   "metadata": {},
   "source": [
    "Fixing the legend, we can do the following\n",
    "\n",
    "Code sourced from here: https://stackoverflow.com/questions/10101141/matplotlib-legend-add-items-across-columns-instead-of-down"
   ]
  },
  {
   "cell_type": "code",
   "execution_count": 17,
   "metadata": {},
   "outputs": [
    {
     "data": {
      "text/plain": [
       "Text(0, 0.5, 'Food eaten [kg]')"
      ]
     },
     "execution_count": 17,
     "metadata": {},
     "output_type": "execute_result"
    },
    {
     "data": {
      "image/png": "[encoded data removed]",
      "text/plain": [
       "<Figure size 432x288 with 1 Axes>"
      ]
     },
     "metadata": {
      "needs_background": "light"
     },
     "output_type": "display_data"
    }
   ],
   "source": [
    "#import intertools. Honestly I copied this bit of code from somewhere else, see\n",
    "\n",
    "import itertools\n",
    "\n",
    "#create a flipping function, that will allow us to change the order of our legend.\n",
    "def flip(items, ncol):\n",
    "    return itertools.chain(*[items[i::ncol] for i in range(ncol)])\n",
    "\n",
    "fig_clustered, ax_clustered = plt.subplots()\n",
    "data_clustered.set_index(\"Group\").plot(ax = ax_clustered, kind='bar', legend = False, width = 0.85)\n",
    "\n",
    "#okay so we're going to get our legend handles again,\n",
    "handles_clustered, labels_clustered = ax_clustered.get_legend_handles_labels()\n",
    "\n",
    "#specify what we want in the legend\n",
    "n_col = 2\n",
    "\n",
    "#Flip our legend like so, again, no idea how intertools work, don't know how this works, but it does.\n",
    "fig_clustered.legend(flip(handles_clustered, n_col), flip(labels_clustered, n_col), ncol=n_col, loc='upper center', bbox_to_anchor=(0.5, 1.050))\n",
    "ax_clustered.set_ylabel(\"Food eaten [kg]\")"
   ]
  },
  {
   "cell_type": "markdown",
   "metadata": {},
   "source": [
    "Here's that with a gradient color scale."
   ]
  },
  {
   "cell_type": "code",
   "execution_count": 18,
   "metadata": {},
   "outputs": [
    {
     "data": {
      "text/plain": [
       "Text(0, 0.5, 'Food eaten [kg]')"
      ]
     },
     "execution_count": 18,
     "metadata": {},
     "output_type": "execute_result"
    },
    {
     "data": {
      "image/png": "[encoded data removed]",
      "text/plain": [
       "<Figure size 432x288 with 1 Axes>"
      ]
     },
     "metadata": {
      "needs_background": "light"
     },
     "output_type": "display_data"
    }
   ],
   "source": [
    "cmap = plt.get_cmap('Greys')\n",
    "color_ind = np.linspace(0,1,len(Group))\n",
    "color_ind = np.flip(color_ind)\n",
    "colors = list()\n",
    "\n",
    "for i in np.arange(len(Group)):\n",
    "    colors.append(cmap(color_ind[i]))\n",
    "    \n",
    "fig_clustered, ax_clustered = plt.subplots()\n",
    "data_clustered.set_index(\"Group\").plot(ax = ax_clustered, kind='bar', legend = False, width = 0.85, color =colors)\n",
    "\n",
    "#okay so we're going to get our legend handles again,\n",
    "handles_clustered, labels_clustered = ax_clustered.get_legend_handles_labels()\n",
    "\n",
    "#specify what we want in the legend\n",
    "n_col = 2\n",
    "\n",
    "#Flip our legend like so, again, no idea how intertools work, don't know how this works, but it does.\n",
    "fig_clustered.legend(flip(handles_clustered, n_col), flip(labels_clustered, n_col), ncol=n_col, loc='upper center', bbox_to_anchor=(0.5, 1.050))\n",
    "ax_clustered.set_ylabel(\"Food eaten [kg]\")"
   ]
  },
  {
   "cell_type": "markdown",
   "metadata": {},
   "source": [
    "## Adding a Linebreak"
   ]
  },
  {
   "cell_type": "markdown",
   "metadata": {},
   "source": [
    "Adding a linebreak is fairly simple. Imagine our cats eat a lot more than the rest of our animals for some reason."
   ]
  },
  {
   "cell_type": "code",
   "execution_count": 19,
   "metadata": {},
   "outputs": [
    {
     "data": {
      "text/plain": [
       "Text(0.02, 0.5, 'Food Eaten [kg]')"
      ]
     },
     "execution_count": 19,
     "metadata": {},
     "output_type": "execute_result"
    },
    {
     "data": {
      "image/png": "[encoded data removed]",
      "text/plain": [
       "<Figure size 432x288 with 2 Axes>"
      ]
     },
     "metadata": {
      "needs_background": "light"
     },
     "output_type": "display_data"
    }
   ],
   "source": [
    "#The data structure will need to be structured a little differently. For a clustered barchart, we want three things\n",
    "\n",
    "#1) We want the bars themselves, previously, this has been animals, so let's pull those up again\n",
    "Animals = [\"Cats\", \"Bears\", \"Snorlax\", \"Armadillos\"] \n",
    "\n",
    "#2)When we make our titles, we will need to have an \"index\", that will be the basis for our grouping.\n",
    "Group = [\"A\", \"B\", \"C\", \"D\", \"E\"]\n",
    "\n",
    "#3) Then we want the actual data, so I'll make another random array\n",
    "\n",
    "data_linebreak = pd.DataFrame(np.random.randint(0,100,size=(len(Group), len(Animals))), columns=Animals)\n",
    "data_linebreak['Group'] = Group\n",
    "data_linebreak['Cats']= data_linebreak['Cats']*200\n",
    "\n",
    "fig_linebreak, (ax_upper, ax_lower) =  plt.subplots(2, 1, gridspec_kw={'height_ratios':  [1.4, 2]}, sharex=True)\n",
    "\n",
    "#Here, we set up the visuals for the graph\n",
    "ax_upper.spines['bottom'].set_visible(False)\n",
    "ax_lower.spines['top'].set_visible(False)\n",
    "ax_upper.tick_params(bottom =False)  # don't put tick labels at the top\n",
    "\n",
    "#What I'm doing here is finding the second maximum in the entire dataframe to automate setting my axis. \n",
    "#There are a variety of ways to automate setting your axis, unfortunately this will occur on a case by case basis\n",
    "max_upper =data_linebreak[data_linebreak.columns[0:-1]].max().max()\n",
    "max_lower = data_linebreak[data_linebreak.columns[1:-1]].max().max()\n",
    "ax_upper.yaxis.set_ticks(np.arange(100, max_upper, 2000))\n",
    "ax_upper.set_ylim(1000, max_upper)  # outliers only\n",
    "ax_lower.set_ylim(0, max_lower)\n",
    "\n",
    "#Adding in the little lines for the line break\n",
    "d = .5  # proportion of vertical to horizontal extent of the slanted line\n",
    "kwargs = dict(marker=[(-1, -d), (1, d)], markersize=12,\n",
    "              linestyle=\"none\", color='k', mec='k', mew=1, clip_on=False)\n",
    "ax_upper.plot([0, 1], [0, 0], transform=ax_upper.transAxes, **kwargs)\n",
    "\n",
    "ax_lower.plot([0, 1], [1, 1], transform=ax_lower.transAxes, **kwargs)\n",
    "\n",
    "#We plot the same data twice\n",
    "data_linebreak.set_index(\"Group\").plot(ax = ax_upper, kind='bar', legend = False, width = 0.85, color = colors)\n",
    "data_linebreak.set_index(\"Group\").plot(ax = ax_lower, kind='bar', legend= False, width = 0.85, color = colors)\n",
    "\n",
    "#okay so we're going to get our legend handles again,\n",
    "handles_linebreak, labels_linebreak = ax_upper.get_legend_handles_labels()\n",
    "\n",
    "#specify what we want in the legend\n",
    "n_col = 2\n",
    "\n",
    "#Flip our legend like so, again, no idea how intertools work, don't know how this works, but it does.\n",
    "fig_linebreak.legend(flip(handles_linebreak, n_col), flip(labels_linebreak, n_col), ncol=n_col, loc='upper center', bbox_to_anchor=(0.5, 1.15))\n",
    "\n",
    "#And this is a great place to bring back in our title for the y-axis\n",
    "fig_linebreak.supylabel('Food Eaten [kg]')"
   ]
  },
  {
   "cell_type": "markdown",
   "metadata": {},
   "source": [
    "## THE CLUSTERED STACKED BAR CHART"
   ]
  },
  {
   "cell_type": "markdown",
   "metadata": {},
   "source": [
    "This is basically the culmination of my thesis, so here we go.\n",
    "\n",
    "This section of the code was originally based on, but I've added my own tweaks: https://stackoverflow.com/questions/22787209/how-to-have-clusters-of-stacked-bars"
   ]
  },
  {
   "cell_type": "code",
   "execution_count": 20,
   "metadata": {},
   "outputs": [],
   "source": [
    "# remember how I said that you might want to read an excel workbook.\n",
    "# Basically you can set up nice df, that's the same between workbooks and then iterate between them\n",
    "# I think this creates a dataframe of dataframes\n",
    "# Anyway, you can also split the data out into multiple portions (great if you want to add error bars)\n",
    "\n",
    "#many_dataframes = pd.read_excel(\"many_dataframes.xlsx\", sheet_name= None, header= 0)\n",
    "# data = []\n",
    "# error = []\n",
    "#for key in many_dataframes.keys():\n",
    "#     total.append(many_dataframes[key]['Data'].tolist())\n",
    "#     upper.append(many_dataframes[key]['Error'].tolist())\n",
    "\n",
    "#However, I will demonstrate this code using fabricated dataframes, because I want this tutorial to be self contained"
   ]
  },
  {
   "cell_type": "code",
   "execution_count": 21,
   "metadata": {},
   "outputs": [
    {
     "data": {
      "text/plain": [
       "([<matplotlib.axis.XTick at 0x1e06fbfb940>,\n",
       "  <matplotlib.axis.XTick at 0x1e06fbfb910>,\n",
       "  <matplotlib.axis.XTick at 0x1e06fc31b20>,\n",
       "  <matplotlib.axis.XTick at 0x1e06fc4afd0>,\n",
       "  <matplotlib.axis.XTick at 0x1e06fc58400>],\n",
       " [Text(0, 0, 'A'),\n",
       "  Text(1, 0, 'B'),\n",
       "  Text(2, 0, 'C'),\n",
       "  Text(3, 0, 'D'),\n",
       "  Text(4, 0, 'E')])"
      ]
     },
     "execution_count": 21,
     "metadata": {},
     "output_type": "execute_result"
    },
    {
     "data": {
      "image/png": "[encoded data removed]",
      "text/plain": [
       "<Figure size 432x288 with 1 Axes>"
      ]
     },
     "metadata": {
      "needs_background": "light"
     },
     "output_type": "display_data"
    }
   ],
   "source": [
    "#Generating data: Alright basically I'm just going to do this for three dataframes\n",
    "\n",
    "#1) We want the bars themselves, previously, this has been animals, so let's pull those up again\n",
    "Animals = [\"Cats\", \"Bears\", \"Snorlax\", \"Armadillos\"] \n",
    "\n",
    "#2)When we make our titles, we will need to have an \"index\", that will be the basis for our grouping.\n",
    "Group = [\"A\", \"B\", \"C\", \"D\", \"E\"]\n",
    "\n",
    "#3) Then we want the actual data, so I'll make another random array\n",
    "\n",
    "data_1 = pd.DataFrame(np.random.randint(0,100,size=(len(Group), len(Animals))), columns=Animals)\n",
    "data_1['Group'] = Group\n",
    "data_2 = pd.DataFrame(np.random.randint(0,100,size=(len(Group), len(Animals))), columns=Animals)\n",
    "data_2['Group'] = Group\n",
    "data_3 = pd.DataFrame(np.random.randint(0,100,size=(len(Group), len(Animals))), columns=Animals)\n",
    "data_3['Group'] = Group\n",
    "\n",
    "data_net = [data_1, data_2, data_3]\n",
    "\n",
    "Fig_stacked_clustered, ax_stacked_clustered = plt.subplots()\n",
    "\n",
    "for data_set in data_net: # for each data frame\n",
    "    Fig_stacked_clustered = data_set.plot(kind=\"bar\", linewidth=0, stacked=True, ax=ax_stacked_clustered, legend=False, grid=False)\n",
    "\n",
    "#If you plot the above code, all of the graphs will be stacked on top of each other. \n",
    "#We use this for loop to shift them.\n",
    "\n",
    "h,l = Fig_stacked_clustered.get_legend_handles_labels() \n",
    "n_df =len(data_net)\n",
    "n_col = len(Animals)\n",
    "for i in range(0, n_df * n_col, n_col):\n",
    "    for pa in h[i:i+n_col]:\n",
    "        for rect in pa.patches: # for each index\n",
    "            rect.set_x(rect.get_x() + 1 / float(n_df + 1) * i / float(n_col))\n",
    "            rect.set_width(1 / float(n_df + 1))\n",
    "#We use this to expand the boundaries of the graph to add some space at the end\n",
    "plt.xlim(np.array(plt.xlim())+[0,1 / float(n_df + 1)])\n",
    "\n",
    "#We use this to change the label on the ticks\n",
    "plt.xticks(np.arange(len(Group)), Group,  color='black')"
   ]
  },
  {
   "cell_type": "markdown",
   "metadata": {},
   "source": [
    "## Adding two legends"
   ]
  },
  {
   "cell_type": "markdown",
   "metadata": {},
   "source": [
    "Perhaps this is a little underwelming. It's not very attactive right? I just wanted to give you the bare bones that you needed to create such a thing. The graphs are splotchy, and we can't really tell them apart. So, we're going to add hatching and two legends\n",
    "\n",
    "We add two legends by creating a phantom bar chart behind the first bar chart that could theoretically have it's own legend"
   ]
  },
  {
   "cell_type": "code",
   "execution_count": 22,
   "metadata": {},
   "outputs": [
    {
     "data": {
      "text/plain": [
       "<matplotlib.legend.Legend at 0x1e06fd93190>"
      ]
     },
     "execution_count": 22,
     "metadata": {},
     "output_type": "execute_result"
    },
    {
     "data": {
      "image/png": "[encoded data removed]",
      "text/plain": [
       "<Figure size 432x288 with 1 Axes>"
      ]
     },
     "metadata": {
      "needs_background": "light"
     },
     "output_type": "display_data"
    }
   ],
   "source": [
    "#Generating data: Alright basically I'm just going to do this for three dataframes\n",
    "\n",
    "Animals = [\"Cats\", \"Bears\", \"Snorlax\", \"Armadillos\"] \n",
    "Group = [\"A\", \"B\", \"C\", \"D\", \"E\"]\n",
    "\n",
    "Animals = [\"Cats\", \"Bears\", \"Snorlax\", \"Armadillos\"] \n",
    "Group = [\"A\", \"B\", \"C\", \"D\", \"E\"]\n",
    "data_net = []\n",
    "for number in np.arange(3):\n",
    "    data_net.append(pd.DataFrame(np.random.randint(0,100,size=(len(Group), len(Animals))), columns=Animals))\n",
    "\n",
    "data_titles = [\"Set 1\", \"Set 2\", \"Set 3\"]\n",
    "\n",
    "n_df =len(data_net)\n",
    "n_col = len(Animals)\n",
    "\n",
    "Fig_stacked_clustered = plt.subplot()\n",
    "\n",
    "for data_set in data_net: # for each data frame\n",
    "    Fig_stacked_clustered = data_set.plot(kind=\"bar\", linewidth=0, stacked=True, ax=Fig_stacked_clustered, legend=False, grid=False)\n",
    "\n",
    "    \n",
    "#New Line!!: we are now setting a hatch\n",
    "h,l = Fig_stacked_clustered.get_legend_handles_labels() \n",
    "\n",
    "hatch_array = []\n",
    "\n",
    "for i in range(0, n_df * n_col, n_col):\n",
    "    for pa in h[i:i+n_col]:\n",
    "        for rect in pa.patches: # for each index\n",
    "            rect.set_x(rect.get_x() + 1 / float(n_df + 1) * i / float(n_col))\n",
    "            rect.set_width(1 / float(n_df + 1))\n",
    "            rect.set_hatch(\"/\"* int(i / n_col)) #New Line!\n",
    "    hatch_array.append(\"/\"* int(i / n_col))\n",
    "\n",
    "#creating an invisible bar chart behind the first one\n",
    "legend_1 = []\n",
    "for i in range(n_df):\n",
    "    legend_1.append(Fig_stacked_clustered.bar(i, 0, color ='grey', hatch =hatch_array[i] ))\n",
    "   \n",
    "plt.xlim(np.array(plt.xlim())+[0,1 / float(n_df + 1)])\n",
    "plt.xticks(np.arange(len(Group)), Group,  color='black')\n",
    "\n",
    "#We make one legend based off of the data in the invisible chart\n",
    "legend = Fig_stacked_clustered.legend(legend_1, data_titles, loc = \"upper center\", ncol = 3,bbox_to_anchor=(0.5, 1.27))\n",
    "\n",
    "#Add that legend to the plot\n",
    "ax = plt.gca().add_artist(legend)\n",
    "\n",
    "#Add a second legend based on the data in the original plot\n",
    "plt.legend(h[:n_col],l[:n_col], loc=\"upper center\", ncol =4,bbox_to_anchor=(0.5, 1.15))\n"
   ]
  },
  {
   "cell_type": "markdown",
   "metadata": {},
   "source": [
    "## THE CLUSTERED STACKED BAR CHART WITH ERROR BARS"
   ]
  },
  {
   "cell_type": "markdown",
   "metadata": {},
   "source": [
    "This is actually the reason I started this all, is I wanted to have error bars on a stacked clustered bar chart, and why I needed to embelish on the previous stack overflow link. Plus I wanted to have a gradient of colors instead of hatching. Here, we'll put everything all together!"
   ]
  },
  {
   "cell_type": "code",
   "execution_count": 23,
   "metadata": {
    "scrolled": true
   },
   "outputs": [
    {
     "data": {
      "text/plain": [
       "<matplotlib.legend.Legend at 0x1e06febf7f0>"
      ]
     },
     "execution_count": 23,
     "metadata": {},
     "output_type": "execute_result"
    },
    {
     "data": {
      "image/png": "[encoded data removed]",
      "text/plain": [
       "<Figure size 432x288 with 1 Axes>"
      ]
     },
     "metadata": {
      "needs_background": "light"
     },
     "output_type": "display_data"
    }
   ],
   "source": [
    "import pandas as pd\n",
    "import numpy as np\n",
    "import matplotlib.pyplot as plt\n",
    "\n",
    "Animals = [\"Cats\", \"Bears\", \"Snorlax\", \"Armadillos\"] \n",
    "Group = [\"A\", \"B\", \"C\", \"D\", \"E\"]\n",
    "data_net = []\n",
    "error_net = []\n",
    "total_net = []\n",
    "data_titles = [\"Set 1\", \"Set 2\", \"Set 3\"]\n",
    "\n",
    "for number in np.arange(len(data_titles)):\n",
    "    data_net.append(pd.DataFrame(np.random.randint(0,100,size=(len(Group), len(Animals))), columns=Animals))\n",
    "    error_net.append(np.random.rand(len(Group))*25)\n",
    "    total_net.append(data_net[number].sum(axis=1))\n",
    "\n",
    "\n",
    "n_df =len(data_net)\n",
    "n_col = len(Animals)\n",
    "\n",
    "Fig_stacked_clustered = plt.subplot()\n",
    "\n",
    "for value, data_set in enumerate(data_net): # for each data frame\n",
    "    Fig_stacked_clustered = data_set.plot(kind=\"bar\", linewidth=0, stacked=True, ax=Fig_stacked_clustered, legend=False, grid=False)\n",
    "    #Okay, what is happening here? we need to offset the errors by the same amount as the bar is getting moved later\n",
    "    #So actually, we're moving the error bars first, then expecting the bars to show up there later\n",
    "    #I can't exactly remember how I cam up with this formula\n",
    "    Fig_stacked_clustered.errorbar(data_net[value].index +  Fig_stacked_clustered.patches[0].get_x()+(0.5+value)*1 / float(n_df + 1),total_net[value], yerr = (error_net[value],error_net[value]), color=\"black\", ls='none')\n",
    "\n",
    "#New Line!!: we are now setting a hatch\n",
    "h,l = Fig_stacked_clustered.get_legend_handles_labels() \n",
    "\n",
    "hatch_array = []\n",
    "\n",
    "for i in range(0, n_df * n_col, n_col):\n",
    "    for pa in h[i:i+n_col]:\n",
    "        for rect in pa.patches: # for each index\n",
    "            rect.set_x(rect.get_x() + 1 / float(n_df + 1) * i / float(n_col))\n",
    "            rect.set_width(1 / float(n_df + 1))\n",
    "            rect.set_hatch(\"/\"* int(i / n_col)) #New Line!\n",
    "    hatch_array.append(\"/\"* int(i / n_col))\n",
    "\n",
    "#creating an invisible bar chart behind the first one\n",
    "legend_1 = []\n",
    "for i in range(n_df):\n",
    "    legend_1.append(Fig_stacked_clustered.bar(i, 0, color ='grey', hatch =hatch_array[i] ))\n",
    "   \n",
    "plt.xlim(np.array(plt.xlim())+[0,1 / float(n_df + 1)])\n",
    "plt.xticks(np.arange(len(Group)), Group,  color='black')\n",
    "\n",
    "#We make one legend based off of the data in the invisible chart\n",
    "legend = Fig_stacked_clustered.legend(legend_1, data_titles, loc = \"upper center\", ncol = 3,bbox_to_anchor=(0.5, 1.27))\n",
    "\n",
    "#Add that legend to the plot\n",
    "ax = plt.gca().add_artist(legend)\n",
    "\n",
    "#Add a second legend based on the data in the original plot\n",
    "plt.legend(h[:n_col],l[:n_col], loc=\"upper center\", ncol =4,bbox_to_anchor=(0.5, 1.15))"
   ]
  },
  {
   "cell_type": "markdown",
   "metadata": {},
   "source": [
    "## The Stacked-Clustered Bar Chart with errors and also gradient coloring"
   ]
  },
  {
   "cell_type": "code",
   "execution_count": 25,
   "metadata": {},
   "outputs": [
    {
     "data": {
      "text/plain": [
       "<matplotlib.legend.Legend at 0x1e0700be820>"
      ]
     },
     "execution_count": 25,
     "metadata": {},
     "output_type": "execute_result"
    },
    {
     "data": {
      "image/png": "[encoded data removed]",
      "text/plain": [
       "<Figure size 432x288 with 1 Axes>"
      ]
     },
     "metadata": {
      "needs_background": "light"
     },
     "output_type": "display_data"
    }
   ],
   "source": [
    "import pandas as pd\n",
    "import numpy as np\n",
    "import matplotlib.pyplot as plt\n",
    "\n",
    "Animals = [\"Cats\", \"Bears\", \"Snorlax\", \"Armadillos\"] \n",
    "#We need as many colors as there are animals\n",
    "key = ['Greens', 'Blues', 'Purples',  'Reds']\n",
    "\n",
    "Group = [\"A\", \"B\", \"C\", \"D\", \"E\"]\n",
    "data_net = []\n",
    "error_net = []\n",
    "total_net = []\n",
    "data_titles = [\"Set 1\", \"Set 2\", \"Set 3\"]\n",
    "\n",
    "data_set_number =len(data_titles)\n",
    "\n",
    "for number in np.arange(data_set_number):\n",
    "    data_net.append(pd.DataFrame(np.random.randint(0,100,size=(len(Group), len(Animals))), columns=Animals))\n",
    "    error_net.append(np.random.rand(len(Group))*25)\n",
    "    total_net.append(data_net[number].sum(axis=1))\n",
    "\n",
    "\n",
    "color_ind = np.linspace(0.3,0.8,data_set_number)\n",
    "color_ind = np.flip(color_ind)\n",
    "\n",
    "legend_map2= plt.get_cmap('Greens')\n",
    "second_legend = list()\n",
    "for i in np.arange(data_set_number):\n",
    "    second_legend.append(legend_map2(color_ind[i]))\n",
    "# batteries = ['Electrolyte Var.' ,'Cat. & Binder Var.', 'Carbon/binder-less', 'Anode Protection', 'Gold Cat.']\n",
    "# legend_zip2 = dict(zip(batteries,second_legend))\n",
    "colorseed = [ [] for _ in range(data_set_number) ]\n",
    "\n",
    "for i in np.arange(data_set_number):\n",
    "    for number, color in enumerate(key):\n",
    "        cmap = plt.get_cmap(color)\n",
    "        colorseed[i].append(cmap(color_ind[i]))\n",
    "    \n",
    "n_df =len(data_net)\n",
    "n_col = len(Animals)\n",
    "\n",
    "Fig_stacked_clustered = plt.subplot()\n",
    "\n",
    "for value, data_set in enumerate(data_net): # for each data frame\n",
    "    Fig_stacked_clustered = data_set.plot(kind=\"bar\", linewidth=0, stacked=True, ax=Fig_stacked_clustered, legend=False, grid=False, color=colorseed[value])\n",
    "    #Okay, what is happening here? we need to offset the errors by the same amount as the bar is getting moved later\n",
    "    #So actually, we're moving the error bars first, then expecting the bars to show up there later\n",
    "    #I can't exactly remember how I cam up with this formula\n",
    "    Fig_stacked_clustered.errorbar(data_net[value].index +  Fig_stacked_clustered.patches[0].get_x()+(0.5+value)*1 / float(n_df + 1),total_net[value], yerr = (error_net[value],error_net[value]), color=\"black\", ls='none')\n",
    "\n",
    "#New Line!!: we are now setting a hatch\n",
    "h,l = Fig_stacked_clustered.get_legend_handles_labels() \n",
    "\n",
    "\n",
    "for i in range(0, n_df * n_col, n_col):\n",
    "    for pa in h[i:i+n_col]:\n",
    "        for rect in pa.patches: # for each index\n",
    "            rect.set_x(rect.get_x() + 1 / float(n_df + 1) * i / float(n_col))\n",
    "            rect.set_width(1 / float(n_df + 1))\n",
    "\n",
    "#creating an invisible bar chart behind the first one\n",
    "legend_1 = []\n",
    "for i in range(n_df):\n",
    "    legend_1.append(Fig_stacked_clustered.bar(i, 0, color =second_legend[i]))\n",
    "   \n",
    "plt.xlim(np.array(plt.xlim())+[0,1 / float(n_df + 1)])\n",
    "plt.xticks(np.arange(len(Group)), Group,  color='black')\n",
    "\n",
    "#We make one legend based off of the data in the invisible chart\n",
    "legend = Fig_stacked_clustered.legend(legend_1, data_titles, loc = \"upper center\", ncol = 3,bbox_to_anchor=(0.5, 1.27))\n",
    "\n",
    "#Add that legend to the plot\n",
    "ax = plt.gca().add_artist(legend)\n",
    "\n",
    "#Add a second legend based on the data in the original plot\n",
    "plt.legend(h[:n_col],l[:n_col], loc=\"upper center\", ncol =4,bbox_to_anchor=(0.5, 1.15))"
   ]
  },
  {
   "cell_type": "code",
   "execution_count": null,
   "metadata": {},
   "outputs": [],
   "source": []
  }
 ],
 "metadata": {
  "kernelspec": {
   "display_name": "Python 3 (ipykernel)",
   "language": "python",
   "name": "python3"
  },
  "language_info": {
   "codemirror_mode": {
    "name": "ipython",
    "version": 3
   },
   "file_extension": ".py",
   "mimetype": "text/x-python",
   "name": "python",
   "nbconvert_exporter": "python",
   "pygments_lexer": "ipython3",
   "version": "3.9.7"
  }
 },
 "nbformat": 4,
 "nbformat_minor": 4
}
